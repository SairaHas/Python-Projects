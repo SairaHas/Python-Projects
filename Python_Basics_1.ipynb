{
  "nbformat": 4,
  "nbformat_minor": 0,
  "metadata": {
    "colab": {
      "provenance": [],
      "authorship_tag": "ABX9TyP72xvlupbcpMJnsJb9EwOA",
      "include_colab_link": true
    },
    "kernelspec": {
      "name": "python3",
      "display_name": "Python 3"
    },
    "language_info": {
      "name": "python"
    }
  },
  "cells": [
    {
      "cell_type": "markdown",
      "metadata": {
        "id": "view-in-github",
        "colab_type": "text"
      },
      "source": [
        "<a href=\"https://colab.research.google.com/github/SairaHas/Pythonbasics/blob/main/Python_Basics_1.ipynb\" target=\"_parent\"><img src=\"https://colab.research.google.com/assets/colab-badge.svg\" alt=\"Open In Colab\"/></a>"
      ]
    },
    {
      "cell_type": "code",
      "execution_count": null,
      "metadata": {
        "colab": {
          "base_uri": "https://localhost:8080/"
        },
        "id": "IkgyKYwCj9Fx",
        "outputId": "faef8d5d-cc12-455d-b0f1-94a4bf922fcd"
      },
      "outputs": [
        {
          "output_type": "stream",
          "name": "stdout",
          "text": [
            "enter the two numbers4\n",
            "4\n",
            "the first number is:4 the second number is:4\n"
          ]
        }
      ],
      "source": [
        "# to display the numbers and sum the digits\n",
        "a=input(\"enter the two numbers\")\n",
        "b=input()\n",
        "print(\"the first number is:\" +a , \"the second number is:\" + b)"
      ]
    },
    {
      "cell_type": "code",
      "source": [
        "sum=int(a)+int(b)\n",
        "print(\"the sum is:\" + str(sum))"
      ],
      "metadata": {
        "colab": {
          "base_uri": "https://localhost:8080/"
        },
        "id": "R3LA_bbBlNFz",
        "outputId": "6a96a1eb-ce09-42d2-e706-d5a555e22c20"
      },
      "execution_count": null,
      "outputs": [
        {
          "output_type": "stream",
          "name": "stdout",
          "text": [
            "the sum is:8\n"
          ]
        }
      ]
    },
    {
      "cell_type": "code",
      "source": [
        "# to find the average of two numbers\n",
        "a=input(\"enter the two numbers\")\n",
        "b=input()\n",
        "sum=int(a)+int(b)\n",
        "average=sum/2\n",
        "print(\"the average of the two numbers is \" + str(average))"
      ],
      "metadata": {
        "colab": {
          "base_uri": "https://localhost:8080/"
        },
        "id": "HzZO2mHumbGX",
        "outputId": "c1e8b882-b70e-41cb-904f-2b70f408c557"
      },
      "execution_count": null,
      "outputs": [
        {
          "output_type": "stream",
          "name": "stdout",
          "text": [
            "enter the two numbers4\n",
            "2\n",
            "the average of the two numbers is 3.0\n"
          ]
        }
      ]
    },
    {
      "cell_type": "code",
      "source": [
        "# to swap two numbers\n",
        "a=input(\"enter the value in a\")\n",
        "b=input(\"enter the value in b\")\n",
        "t=a\n",
        "a=b\n",
        "b=t\n",
        "print(\"the value in a is: \"+str(a), \"the value in b is: \"+str(b))"
      ],
      "metadata": {
        "colab": {
          "base_uri": "https://localhost:8080/"
        },
        "id": "VVVR1XztnoaK",
        "outputId": "81b72df4-15c7-4c7a-e4e7-a92c2a493ccc"
      },
      "execution_count": null,
      "outputs": [
        {
          "output_type": "stream",
          "name": "stdout",
          "text": [
            "enter the value in a7\n",
            "enter the value in b5\n",
            "the value in a is: 5 the value in b is: 7\n"
          ]
        }
      ]
    },
    {
      "cell_type": "code",
      "source": [
        "#string operations\n",
        "a=\"hi,how are you?\"\n",
        "print(len(a))\n",
        "print(a[0:6])\n",
        "print(a[0])\n",
        "print(a[-4:-1])\n",
        "print(a[:3])\n",
        "print(a[3:])\n",
        "print(a[-4:-2])"
      ],
      "metadata": {
        "colab": {
          "base_uri": "https://localhost:8080/"
        },
        "id": "GGMstSRjpIOA",
        "outputId": "28840c25-33f6-4795-a3ce-c356698d6a39"
      },
      "execution_count": null,
      "outputs": [
        {
          "output_type": "stream",
          "name": "stdout",
          "text": [
            "15\n",
            "hi,how\n",
            "h\n",
            "you\n",
            "hi,\n",
            "how are you?\n",
            "yo\n"
          ]
        }
      ]
    },
    {
      "cell_type": "code",
      "source": [
        "#strings are immutable, lists are mutable\n",
        "a=[\"viseris\",\"drogon\",\"rhaegon\"] #representation of lists\n",
        "print(a)\n",
        "a[1]=\"snow\"\n",
        "a=a+[\"jon\",\"bon\"]\n",
        "print(a)"
      ],
      "metadata": {
        "id": "PYXP_HAYpWFd",
        "colab": {
          "base_uri": "https://localhost:8080/"
        },
        "outputId": "4d3b52aa-e5a1-44ad-b3c8-74a732181e04"
      },
      "execution_count": null,
      "outputs": [
        {
          "output_type": "stream",
          "name": "stdout",
          "text": [
            "['viseris', 'drogon', 'rhaegon']\n",
            "['viseris', 'snow', 'rhaegon', 'jon', 'bon']\n"
          ]
        }
      ]
    },
    {
      "cell_type": "code",
      "source": [
        "#control statements, if conditions\n",
        "a=int(input(\"eneter a number\"))\n",
        "if a>0:\n",
        "  print(\"the number is a positive integer\")\n",
        "elif a<0:\n",
        "  print(\"the number is a negative integer\")\n",
        "else: \n",
        "  print(\"the number is zero\")"
      ],
      "metadata": {
        "colab": {
          "base_uri": "https://localhost:8080/"
        },
        "id": "tUhm7r9VuGWL",
        "outputId": "31c93a08-31ae-4a7d-c058-ee0ec39d3c50"
      },
      "execution_count": null,
      "outputs": [
        {
          "output_type": "stream",
          "name": "stdout",
          "text": [
            "eneter a number0\n",
            "the number is zero\n"
          ]
        }
      ]
    },
    {
      "cell_type": "code",
      "source": [
        "#to check if the number is even or odd\n",
        "num=int(input(\"enter the number\"))\n",
        "if num%2==0:\n",
        "   print(\"the number is even\")\n",
        "else:\n",
        "  print(\"the number is odd\")   "
      ],
      "metadata": {
        "colab": {
          "base_uri": "https://localhost:8080/"
        },
        "id": "mJ7kmX-UyDvs",
        "outputId": "bec71e64-8f80-4c7f-8148-44c39d7ce59b"
      },
      "execution_count": null,
      "outputs": [
        {
          "output_type": "stream",
          "name": "stdout",
          "text": [
            "enter the number0\n",
            "the number is even\n"
          ]
        }
      ]
    },
    {
      "cell_type": "code",
      "source": [
        "#while loop\n",
        "i=0\n",
        "while i<=10:\n",
        "  print(i)\n",
        "  i=i+1\n",
        "else: #while loop can also have else case \n",
        "  print(\"the loop is finished\")  "
      ],
      "metadata": {
        "id": "qLtR1-SW1qb5",
        "colab": {
          "base_uri": "https://localhost:8080/"
        },
        "outputId": "074ac2f6-eb30-49f3-ff3c-1e0685378bb4"
      },
      "execution_count": null,
      "outputs": [
        {
          "output_type": "stream",
          "name": "stdout",
          "text": [
            "0\n",
            "1\n",
            "2\n",
            "3\n",
            "4\n",
            "5\n",
            "6\n",
            "7\n",
            "8\n",
            "9\n",
            "10\n",
            "the loop is finished\n"
          ]
        }
      ]
    },
    {
      "cell_type": "code",
      "source": [
        "# to print square pattern of *\n",
        "n=int(input(\"enter the number of rows\"))\n",
        "for i in range(n):\n",
        "  for j in range(n):\n",
        "    print(\"*\",end='  ')\n",
        "  print() \n",
        "\n"
      ],
      "metadata": {
        "colab": {
          "base_uri": "https://localhost:8080/"
        },
        "id": "JsSr4xnoyccz",
        "outputId": "338d6d22-9f4c-464e-b2ff-2a704e5ab88b"
      },
      "execution_count": null,
      "outputs": [
        {
          "output_type": "stream",
          "name": "stdout",
          "text": [
            "enter the number of rows5\n",
            "*  *  *  *  *  \n",
            "*  *  *  *  *  \n",
            "*  *  *  *  *  \n",
            "*  *  *  *  *  \n",
            "*  *  *  *  *  \n"
          ]
        }
      ]
    },
    {
      "cell_type": "code",
      "source": [
        "#to check if num is a prime or not\n",
        "n=int(input(\"enter the number\"))\n",
        "if n==0 and 1:\n",
        "  print(\"number is neither prime nor composite\")\n",
        "elif n%2==0:\n",
        "  print(\"the number is prime\")  \n",
        "else:\n",
        "    print(\"the number is composite\")"
      ],
      "metadata": {
        "colab": {
          "base_uri": "https://localhost:8080/"
        },
        "id": "_CqBBcu6z92I",
        "outputId": "44f2626c-a5b6-4982-a449-a4234db0f115"
      },
      "execution_count": null,
      "outputs": [
        {
          "output_type": "stream",
          "name": "stdout",
          "text": [
            "enter the number5\n",
            "the number is composite\n"
          ]
        }
      ]
    },
    {
      "cell_type": "code",
      "source": [
        "#increasing/right angle triangle pattern\n",
        "n=int(input(\"enter the number of rows\"))\n",
        "for i in range(n):\n",
        "  for j in range(i+1):\n",
        "    print(\"*\",end='  ')\n",
        "  print()  \n"
      ],
      "metadata": {
        "colab": {
          "base_uri": "https://localhost:8080/"
        },
        "id": "1w_gTEgOKrGt",
        "outputId": "7ce74d3d-063f-46e7-c251-68b48cea78b8"
      },
      "execution_count": null,
      "outputs": [
        {
          "output_type": "stream",
          "name": "stdout",
          "text": [
            "enter the number of rows7\n",
            "*  \n",
            "*  *  \n",
            "*  *  *  \n",
            "*  *  *  *  \n",
            "*  *  *  *  *  \n",
            "*  *  *  *  *  *  \n",
            "*  *  *  *  *  *  *  \n"
          ]
        }
      ]
    },
    {
      "cell_type": "code",
      "source": [
        "#decreasing triangle pattern\n",
        "n=int(input(\"enter the number of rows\"))\n",
        "for i in range(n):\n",
        "  for j in range(i,n):\n",
        "    print(\"*\", end='  ')\n",
        "  print() \n"
      ],
      "metadata": {
        "colab": {
          "base_uri": "https://localhost:8080/"
        },
        "id": "D6NCJdyFQxoo",
        "outputId": "756aa38b-78ac-437b-a2df-58bf2d152436"
      },
      "execution_count": null,
      "outputs": [
        {
          "output_type": "stream",
          "name": "stdout",
          "text": [
            "enter the number of rows5\n",
            "*  *  *  *  *  \n",
            "*  *  *  *  \n",
            "*  *  *  \n",
            "*  *  \n",
            "*  \n"
          ]
        }
      ]
    },
    {
      "cell_type": "code",
      "source": [
        "#right sided right triangle\n",
        "n=int(input(\"enter the no:of rows\"))\n",
        "for i in range(n):\n",
        "  for j in range(i,n):\n",
        "    print(' ',end='  ')\n",
        "  for j in range(i+1):\n",
        "     print('*',end='  ')\n",
        "  print()   \n"
      ],
      "metadata": {
        "colab": {
          "base_uri": "https://localhost:8080/"
        },
        "id": "6piI8qhSUgHD",
        "outputId": "c6b7e56d-1111-431a-c813-564194111c3a"
      },
      "execution_count": null,
      "outputs": [
        {
          "output_type": "stream",
          "name": "stdout",
          "text": [
            "enter the no:of rows5\n",
            "               *  \n",
            "            *  *  \n",
            "         *  *  *  \n",
            "      *  *  *  *  \n",
            "   *  *  *  *  *  \n"
          ]
        }
      ]
    },
    {
      "cell_type": "code",
      "source": [
        "#for printing hill pattern\n",
        "n=int(input(\"enter the no:of rows\"))\n",
        "for i in range(n):\n",
        "  for j in range(i,n):\n",
        "    print(\" \",end =' ')\n",
        "  for j in range(i):\n",
        "    print(\"*\", end=' ')\n",
        "  for j in range(i+1):\n",
        "    print(\"*\", end=' ')  \n",
        "  print()     \n"
      ],
      "metadata": {
        "colab": {
          "base_uri": "https://localhost:8080/"
        },
        "id": "9yaNwssG2kq5",
        "outputId": "38553cf2-322a-46b0-e0d0-880afbe3e2f4"
      },
      "execution_count": null,
      "outputs": [
        {
          "output_type": "stream",
          "name": "stdout",
          "text": [
            "enter the no:of rows5\n",
            "          * \n",
            "        * * * \n",
            "      * * * * * \n",
            "    * * * * * * * \n",
            "  * * * * * * * * * \n"
          ]
        }
      ]
    },
    {
      "cell_type": "code",
      "source": [
        "# to print pattern of numbers in incresing triangle\n",
        "n= int(input(\"enter the number of rows\"))\n",
        "p=1\n",
        "for i in range(n):\n",
        "  for j in range (i+1):\n",
        "    print(p, end=' ')\n",
        "  p=p+1\n",
        "  print()  \n",
        "\n",
        "\n"
      ],
      "metadata": {
        "colab": {
          "base_uri": "https://localhost:8080/"
        },
        "id": "Yi6s7ngEmbYi",
        "outputId": "6bf39f77-a128-4ded-f119-2be94cad845d"
      },
      "execution_count": null,
      "outputs": [
        {
          "output_type": "stream",
          "name": "stdout",
          "text": [
            "enter the number of rows5\n",
            "1 \n",
            "2 2 \n",
            "3 3 3 \n",
            "4 4 4 4 \n",
            "5 5 5 5 5 \n"
          ]
        }
      ]
    },
    {
      "cell_type": "code",
      "source": [
        "#functions\n",
        "\n",
        "def hey():\n",
        "  print(\"hello!\")\n",
        "hey()  \n"
      ],
      "metadata": {
        "colab": {
          "base_uri": "https://localhost:8080/"
        },
        "id": "vCxx63-iCzfj",
        "outputId": "32f11c04-3ce9-46c0-9fd1-ea5b38f78f8b"
      },
      "execution_count": null,
      "outputs": [
        {
          "output_type": "stream",
          "name": "stdout",
          "text": [
            "hello!\n"
          ]
        }
      ]
    },
    {
      "cell_type": "code",
      "source": [
        "def hey(name):\n",
        "  print(\"My name is \"+ str(name))\n",
        "\n",
        "VALUE=\"Saira\"\n",
        "hey(VALUE)  \n",
        "\n"
      ],
      "metadata": {
        "colab": {
          "base_uri": "https://localhost:8080/"
        },
        "id": "aKu4pboCDa0x",
        "outputId": "396cb82d-fc24-4fb6-98e4-028189499a35"
      },
      "execution_count": null,
      "outputs": [
        {
          "output_type": "stream",
          "name": "stdout",
          "text": [
            "My name is Saira\n"
          ]
        }
      ]
    },
    {
      "cell_type": "code",
      "source": [
        "# to understand the difference between global and local variable\n",
        "value=10\n",
        "\n",
        "def sample():\n",
        "  value=30 # -->local variable\n",
        "  print(value)\n",
        "\n",
        "\n",
        "print(value)  #here the function is not called and hence that code is not executed -->global variable\n",
        "sample() # here the function is executed --> local variable"
      ],
      "metadata": {
        "colab": {
          "base_uri": "https://localhost:8080/"
        },
        "id": "kS2kH5hsJtFm",
        "outputId": "e1b38f38-a31c-440f-be76-12e6c81d5e60"
      },
      "execution_count": null,
      "outputs": [
        {
          "output_type": "stream",
          "name": "stdout",
          "text": [
            "10\n",
            "30\n"
          ]
        }
      ]
    },
    {
      "cell_type": "code",
      "source": [],
      "metadata": {
        "id": "jEJnzYT_LrxB"
      },
      "execution_count": null,
      "outputs": []
    }
  ]
}